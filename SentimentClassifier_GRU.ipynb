{
  "nbformat": 4,
  "nbformat_minor": 0,
  "metadata": {
    "colab": {
      "name": "SentimentClassifier_GRU",
      "provenance": []
    },
    "kernelspec": {
      "name": "python3",
      "display_name": "Python 3"
    },
    "language_info": {
      "name": "python"
    }
  },
  "cells": [
    {
      "cell_type": "code",
      "metadata": {
        "colab": {
          "base_uri": "https://localhost:8080/"
        },
        "id": "i5MbSgEnlkuw",
        "outputId": "6c2c8199-2aa5-42e9-d748-532a775baab4"
      },
      "source": [
        "import torch\n",
        "import torch.nn as nn\n",
        "import torch.optim as optim\n",
        "import torch.nn.functional as F  \n",
        "import torchvision\n",
        "import matplotlib.pyplot as plt\n",
        "from torchvision import transforms\n",
        "transforms = torchvision.transforms\n",
        "import pandas as pd\n",
        "import numpy as np\n",
        "import nltk\n",
        "from nltk.corpus import stopwords\n",
        "from nltk.tokenize import word_tokenize\n",
        "from nltk.stem import WordNetLemmatizer\n",
        "import re\n",
        "from sklearn.model_selection import train_test_split\n",
        "from sklearn.metrics import classification_report\n",
        "import gensim\n",
        "from gensim import corpora\n",
        "from keras.preprocessing.text import Tokenizer\n",
        "from keras.preprocessing.sequence import pad_sequences\n",
        "from keras import regularizers\n",
        "from keras.layers import Embedding\n",
        "from keras.models import Sequential\n",
        "from keras import layers\n",
        "from keras import regularizers\n",
        "from keras import backend as K\n",
        "from keras.callbacks import ModelCheckpoint\n",
        "import tensorflow as tf\n",
        "\n",
        "nltk.download(['punkt','wordnet','stopwords'])"
      ],
      "execution_count": 24,
      "outputs": [
        {
          "output_type": "stream",
          "text": [
            "[nltk_data] Downloading package punkt to /root/nltk_data...\n",
            "[nltk_data]   Package punkt is already up-to-date!\n",
            "[nltk_data] Downloading package wordnet to /root/nltk_data...\n",
            "[nltk_data]   Package wordnet is already up-to-date!\n",
            "[nltk_data] Downloading package stopwords to /root/nltk_data...\n",
            "[nltk_data]   Package stopwords is already up-to-date!\n"
          ],
          "name": "stdout"
        },
        {
          "output_type": "execute_result",
          "data": {
            "text/plain": [
              "True"
            ]
          },
          "metadata": {
            "tags": []
          },
          "execution_count": 24
        }
      ]
    },
    {
      "cell_type": "code",
      "metadata": {
        "id": "SqQThM722auc"
      },
      "source": [
        "# Device configuration\n",
        "\n",
        "device = torch.device('cuda' if torch.cuda.is_available() else 'cpu')"
      ],
      "execution_count": 25,
      "outputs": []
    },
    {
      "cell_type": "code",
      "metadata": {
        "id": "93_wZrwl2i4y"
      },
      "source": [
        "# downloading dataset\n",
        "df = pd.read_csv('/content/drive/MyDrive/Colab Notebooks/IMDB Dataset.csv')"
      ],
      "execution_count": 26,
      "outputs": []
    },
    {
      "cell_type": "code",
      "metadata": {
        "colab": {
          "base_uri": "https://localhost:8080/",
          "height": 189
        },
        "id": "u5YBbl2m2zC4",
        "outputId": "e2b5e5c2-cfda-49be-9b42-cccd781af0a3"
      },
      "source": [
        "print(df.columns)\n",
        "df.describe()"
      ],
      "execution_count": 27,
      "outputs": [
        {
          "output_type": "stream",
          "text": [
            "Index(['review', 'sentiment'], dtype='object')\n"
          ],
          "name": "stdout"
        },
        {
          "output_type": "execute_result",
          "data": {
            "text/html": [
              "<div>\n",
              "<style scoped>\n",
              "    .dataframe tbody tr th:only-of-type {\n",
              "        vertical-align: middle;\n",
              "    }\n",
              "\n",
              "    .dataframe tbody tr th {\n",
              "        vertical-align: top;\n",
              "    }\n",
              "\n",
              "    .dataframe thead th {\n",
              "        text-align: right;\n",
              "    }\n",
              "</style>\n",
              "<table border=\"1\" class=\"dataframe\">\n",
              "  <thead>\n",
              "    <tr style=\"text-align: right;\">\n",
              "      <th></th>\n",
              "      <th>review</th>\n",
              "      <th>sentiment</th>\n",
              "    </tr>\n",
              "  </thead>\n",
              "  <tbody>\n",
              "    <tr>\n",
              "      <th>count</th>\n",
              "      <td>50000</td>\n",
              "      <td>50000</td>\n",
              "    </tr>\n",
              "    <tr>\n",
              "      <th>unique</th>\n",
              "      <td>49582</td>\n",
              "      <td>2</td>\n",
              "    </tr>\n",
              "    <tr>\n",
              "      <th>top</th>\n",
              "      <td>Loved today's show!!! It was a variety and not...</td>\n",
              "      <td>negative</td>\n",
              "    </tr>\n",
              "    <tr>\n",
              "      <th>freq</th>\n",
              "      <td>5</td>\n",
              "      <td>25000</td>\n",
              "    </tr>\n",
              "  </tbody>\n",
              "</table>\n",
              "</div>"
            ],
            "text/plain": [
              "                                                   review sentiment\n",
              "count                                               50000     50000\n",
              "unique                                              49582         2\n",
              "top     Loved today's show!!! It was a variety and not...  negative\n",
              "freq                                                    5     25000"
            ]
          },
          "metadata": {
            "tags": []
          },
          "execution_count": 27
        }
      ]
    },
    {
      "cell_type": "code",
      "metadata": {
        "colab": {
          "base_uri": "https://localhost:8080/",
          "height": 203
        },
        "id": "uo6brC4W3ebK",
        "outputId": "a4892222-af02-42fc-92d5-4c58803f5e9a"
      },
      "source": [
        "zero_1 = pd.get_dummies(df['sentiment'])\n",
        "df = df.drop('sentiment', axis=1) \n",
        "df = df.join(zero_1)\n",
        "df.head()"
      ],
      "execution_count": 28,
      "outputs": [
        {
          "output_type": "execute_result",
          "data": {
            "text/html": [
              "<div>\n",
              "<style scoped>\n",
              "    .dataframe tbody tr th:only-of-type {\n",
              "        vertical-align: middle;\n",
              "    }\n",
              "\n",
              "    .dataframe tbody tr th {\n",
              "        vertical-align: top;\n",
              "    }\n",
              "\n",
              "    .dataframe thead th {\n",
              "        text-align: right;\n",
              "    }\n",
              "</style>\n",
              "<table border=\"1\" class=\"dataframe\">\n",
              "  <thead>\n",
              "    <tr style=\"text-align: right;\">\n",
              "      <th></th>\n",
              "      <th>review</th>\n",
              "      <th>negative</th>\n",
              "      <th>positive</th>\n",
              "    </tr>\n",
              "  </thead>\n",
              "  <tbody>\n",
              "    <tr>\n",
              "      <th>0</th>\n",
              "      <td>One of the other reviewers has mentioned that ...</td>\n",
              "      <td>0</td>\n",
              "      <td>1</td>\n",
              "    </tr>\n",
              "    <tr>\n",
              "      <th>1</th>\n",
              "      <td>A wonderful little production. &lt;br /&gt;&lt;br /&gt;The...</td>\n",
              "      <td>0</td>\n",
              "      <td>1</td>\n",
              "    </tr>\n",
              "    <tr>\n",
              "      <th>2</th>\n",
              "      <td>I thought this was a wonderful way to spend ti...</td>\n",
              "      <td>0</td>\n",
              "      <td>1</td>\n",
              "    </tr>\n",
              "    <tr>\n",
              "      <th>3</th>\n",
              "      <td>Basically there's a family where a little boy ...</td>\n",
              "      <td>1</td>\n",
              "      <td>0</td>\n",
              "    </tr>\n",
              "    <tr>\n",
              "      <th>4</th>\n",
              "      <td>Petter Mattei's \"Love in the Time of Money\" is...</td>\n",
              "      <td>0</td>\n",
              "      <td>1</td>\n",
              "    </tr>\n",
              "  </tbody>\n",
              "</table>\n",
              "</div>"
            ],
            "text/plain": [
              "                                              review  negative  positive\n",
              "0  One of the other reviewers has mentioned that ...         0         1\n",
              "1  A wonderful little production. <br /><br />The...         0         1\n",
              "2  I thought this was a wonderful way to spend ti...         0         1\n",
              "3  Basically there's a family where a little boy ...         1         0\n",
              "4  Petter Mattei's \"Love in the Time of Money\" is...         0         1"
            ]
          },
          "metadata": {
            "tags": []
          },
          "execution_count": 28
        }
      ]
    },
    {
      "cell_type": "code",
      "metadata": {
        "id": "1NgTXJ2Q38ac"
      },
      "source": [
        "def text_processing(text):\n",
        "  words=word_tokenize(text)\n",
        "\n",
        "  words_without_punc=[]\n",
        "  for w in words:\n",
        "    if w.isalpha():\n",
        "      words_without_punc.append(w.lower())\n",
        "\n",
        "  clean_words=[]\n",
        "  stop_words = set(stopwords.words(\"english\"))\n",
        "  for w in words_without_punc:\n",
        "    if w not in stop_words:\n",
        "      clean_words.append(w)\n",
        "    \n",
        "  lemmatized_words=[]\n",
        "  for w in clean_words:\n",
        "    lemmatized_words.append(WordNetLemmatizer().lemmatize(w))\n",
        "  return ' '.join(lemmatized_words)"
      ],
      "execution_count": 29,
      "outputs": []
    },
    {
      "cell_type": "code",
      "metadata": {
        "colab": {
          "base_uri": "https://localhost:8080/",
          "height": 203
        },
        "id": "h9uvTfV56p-U",
        "outputId": "d6dd1664-e91a-408c-b8a4-0df8cac19ec7"
      },
      "source": [
        "df['review'] = df['review'].apply(text_processing)\n",
        "df.to_csv('/content/drive/MyDrive/NLPlay_with_Transformers/pre_processed_data.csv', index=False)\n",
        "df.head()"
      ],
      "execution_count": 30,
      "outputs": [
        {
          "output_type": "execute_result",
          "data": {
            "text/html": [
              "<div>\n",
              "<style scoped>\n",
              "    .dataframe tbody tr th:only-of-type {\n",
              "        vertical-align: middle;\n",
              "    }\n",
              "\n",
              "    .dataframe tbody tr th {\n",
              "        vertical-align: top;\n",
              "    }\n",
              "\n",
              "    .dataframe thead th {\n",
              "        text-align: right;\n",
              "    }\n",
              "</style>\n",
              "<table border=\"1\" class=\"dataframe\">\n",
              "  <thead>\n",
              "    <tr style=\"text-align: right;\">\n",
              "      <th></th>\n",
              "      <th>review</th>\n",
              "      <th>negative</th>\n",
              "      <th>positive</th>\n",
              "    </tr>\n",
              "  </thead>\n",
              "  <tbody>\n",
              "    <tr>\n",
              "      <th>0</th>\n",
              "      <td>one reviewer mentioned watching oz episode hoo...</td>\n",
              "      <td>0</td>\n",
              "      <td>1</td>\n",
              "    </tr>\n",
              "    <tr>\n",
              "      <th>1</th>\n",
              "      <td>wonderful little production br br filming tech...</td>\n",
              "      <td>0</td>\n",
              "      <td>1</td>\n",
              "    </tr>\n",
              "    <tr>\n",
              "      <th>2</th>\n",
              "      <td>thought wonderful way spend time hot summer we...</td>\n",
              "      <td>0</td>\n",
              "      <td>1</td>\n",
              "    </tr>\n",
              "    <tr>\n",
              "      <th>3</th>\n",
              "      <td>basically family little boy jake think zombie ...</td>\n",
              "      <td>1</td>\n",
              "      <td>0</td>\n",
              "    </tr>\n",
              "    <tr>\n",
              "      <th>4</th>\n",
              "      <td>petter mattei love time money visually stunnin...</td>\n",
              "      <td>0</td>\n",
              "      <td>1</td>\n",
              "    </tr>\n",
              "  </tbody>\n",
              "</table>\n",
              "</div>"
            ],
            "text/plain": [
              "                                              review  negative  positive\n",
              "0  one reviewer mentioned watching oz episode hoo...         0         1\n",
              "1  wonderful little production br br filming tech...         0         1\n",
              "2  thought wonderful way spend time hot summer we...         0         1\n",
              "3  basically family little boy jake think zombie ...         1         0\n",
              "4  petter mattei love time money visually stunnin...         0         1"
            ]
          },
          "metadata": {
            "tags": []
          },
          "execution_count": 30
        }
      ]
    },
    {
      "cell_type": "code",
      "metadata": {
        "id": "90pTdRwh8D8P"
      },
      "source": [
        "X = df.iloc[:, 0].values\n",
        "Y = df.iloc[:, 2].values"
      ],
      "execution_count": 31,
      "outputs": []
    },
    {
      "cell_type": "code",
      "metadata": {
        "colab": {
          "base_uri": "https://localhost:8080/"
        },
        "id": "wNPNIR6W8MT0",
        "outputId": "3bd161e5-e3d6-4c1f-c22b-5afb3d2e4227"
      },
      "source": [
        "max_words = 10000\n",
        "max_len = 500\n",
        "tokenizer = Tokenizer(num_words=max_words)\n",
        "tokenizer.fit_on_texts(X)\n",
        "sequences = tokenizer.texts_to_sequences(X)\n",
        "X = pad_sequences(sequences, maxlen=max_len)\n",
        "X_train, X_test, y_train, y_test = train_test_split(X, Y, shuffle=True, random_state=60, test_size=0.20)\n",
        "print(len(X_train))\n",
        "print(len(X_test))"
      ],
      "execution_count": 32,
      "outputs": [
        {
          "output_type": "stream",
          "text": [
            "40000\n",
            "10000\n"
          ],
          "name": "stdout"
        }
      ]
    },
    {
      "cell_type": "code",
      "metadata": {
        "id": "x1zJJYeVFatz"
      },
      "source": [
        "model_checkpoint_callback = tf.keras.callbacks.ModelCheckpoint(\n",
        "    filepath='model_gru.h5',\n",
        "    save_weights_only=False,\n",
        "    mode='max',\n",
        "    monitor='val_accuracy',\n",
        "    save_best_only=True)"
      ],
      "execution_count": 33,
      "outputs": []
    },
    {
      "cell_type": "code",
      "metadata": {
        "colab": {
          "base_uri": "https://localhost:8080/"
        },
        "id": "cUtNRA5YGNOb",
        "outputId": "96bb90b9-b2aa-45ab-9a9a-b133c9a094df"
      },
      "source": [
        "model1 = Sequential()\n",
        "model1.add(layers.Embedding(max_words, 64))\n",
        "model1.add(layers.SimpleRNN(10,dropout=0.5))\n",
        "model1.add(layers.Dense(1,activation='sigmoid'))\n",
        "\n",
        "model1.compile(optimizer='adam',loss='binary_crossentropy', metrics=['accuracy'])\n",
        "model1.fit(X_train, y_train, batch_size=128, epochs=10, validation_data=(X_test, y_test),verbose=1,callbacks = [model_checkpoint_callback])"
      ],
      "execution_count": 34,
      "outputs": [
        {
          "output_type": "stream",
          "text": [
            "Epoch 1/10\n",
            "313/313 [==============================] - 108s 262ms/step - loss: 0.6418 - accuracy: 0.6150 - val_loss: 0.4534 - val_accuracy: 0.8098\n",
            "Epoch 2/10\n",
            "313/313 [==============================] - 82s 263ms/step - loss: 0.3915 - accuracy: 0.8404 - val_loss: 0.3734 - val_accuracy: 0.8511\n",
            "Epoch 3/10\n",
            "313/313 [==============================] - 83s 266ms/step - loss: 0.3154 - accuracy: 0.8754 - val_loss: 0.3871 - val_accuracy: 0.8439\n",
            "Epoch 4/10\n",
            "313/313 [==============================] - 83s 265ms/step - loss: 0.2531 - accuracy: 0.9031 - val_loss: 0.3567 - val_accuracy: 0.8638\n",
            "Epoch 5/10\n",
            "313/313 [==============================] - 82s 263ms/step - loss: 0.1991 - accuracy: 0.9276 - val_loss: 0.3699 - val_accuracy: 0.8599\n",
            "Epoch 6/10\n",
            "313/313 [==============================] - 82s 263ms/step - loss: 0.1520 - accuracy: 0.9502 - val_loss: 0.3888 - val_accuracy: 0.8567\n",
            "Epoch 7/10\n",
            "313/313 [==============================] - 82s 262ms/step - loss: 0.1298 - accuracy: 0.9574 - val_loss: 0.4139 - val_accuracy: 0.8651\n",
            "Epoch 8/10\n",
            "313/313 [==============================] - 82s 261ms/step - loss: 0.1043 - accuracy: 0.9655 - val_loss: 0.4291 - val_accuracy: 0.8584\n",
            "Epoch 9/10\n",
            "313/313 [==============================] - 81s 259ms/step - loss: 0.0915 - accuracy: 0.9701 - val_loss: 0.4677 - val_accuracy: 0.8606\n",
            "Epoch 10/10\n",
            "313/313 [==============================] - 82s 262ms/step - loss: 0.0745 - accuracy: 0.9756 - val_loss: 0.4831 - val_accuracy: 0.8509\n"
          ],
          "name": "stdout"
        },
        {
          "output_type": "execute_result",
          "data": {
            "text/plain": [
              "<keras.callbacks.History at 0x7f30cee53ad0>"
            ]
          },
          "metadata": {
            "tags": []
          },
          "execution_count": 34
        }
      ]
    },
    {
      "cell_type": "code",
      "metadata": {
        "colab": {
          "base_uri": "https://localhost:8080/"
        },
        "id": "Cb55LWNxHLk8",
        "outputId": "b4c9b7a2-58cc-419d-84ea-a36be5020366"
      },
      "source": [
        "model = tf.keras.models.load_model('model_gru.h5')\n",
        "test_accuracy=model.evaluate(X_test,y_test,verbose=0)\n",
        "print(test_accuracy[1])"
      ],
      "execution_count": 35,
      "outputs": [
        {
          "output_type": "stream",
          "text": [
            "0.8651000261306763\n"
          ],
          "name": "stdout"
        }
      ]
    }
  ]
}